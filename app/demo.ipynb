{
 "cells": [
  {
   "cell_type": "code",
   "execution_count": null,
   "id": "19b09cd9",
   "metadata": {},
   "outputs": [],
   "source": [
    "# Medical Report Simplifier - API Demo\n",
    "\"\"\"\n",
    "This notebook demonstrates the functionality of the FastAPI endpoints.\n",
    "\n",
    "**Instructions:**\n",
    "1.  Make sure you have started the application using `docker-compose up --build`.\n",
    "2.  Run the cells below to interact with the live local server.\n",
    "\n",
    "\"\"\""
   ]
  },
  {
   "cell_type": "code",
   "execution_count": null,
   "id": "e93c46ed",
   "metadata": {},
   "outputs": [],
   "source": [
    "import requests\n",
    "import json\n",
    "from IPython.display import display, Image, JSON\n",
    "\n",
    "# The API is running locally on port 8000\n",
    "BASE_URL = \"http://localhost:8000\""
   ]
  }
 ],
 "metadata": {
  "kernelspec": {
   "display_name": "med_api",
   "language": "python",
   "name": "python3"
  },
  "language_info": {
   "name": "python",
   "version": "3.12.3"
  }
 },
 "nbformat": 4,
 "nbformat_minor": 5
}
